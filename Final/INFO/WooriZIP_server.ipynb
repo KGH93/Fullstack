{
  "nbformat": 4,
  "nbformat_minor": 0,
  "metadata": {
    "colab": {
      "provenance": []
    },
    "kernelspec": {
      "name": "python3",
      "display_name": "Python 3"
    },
    "language_info": {
      "name": "python"
    }
  },
  "cells": [
    {
      "cell_type": "code",
      "source": [],
      "metadata": {
        "id": "Ict5QqLpr8MD"
      },
      "execution_count": null,
      "outputs": []
    },
    {
      "cell_type": "code",
      "execution_count": null,
      "metadata": {
        "colab": {
          "base_uri": "https://localhost:8080/"
        },
        "id": "9Hb-9kpLrrQV",
        "outputId": "5abde832-a2ee-4378-c1f1-d2138da93114"
      },
      "outputs": [
        {
          "output_type": "stream",
          "name": "stdout",
          "text": [
            "Requirement already satisfied: fastapi in /usr/local/lib/python3.11/dist-packages (0.116.1)\n",
            "Requirement already satisfied: uvicorn in /usr/local/lib/python3.11/dist-packages (0.35.0)\n",
            "Requirement already satisfied: nest-asyncio in /usr/local/lib/python3.11/dist-packages (1.6.0)\n",
            "Requirement already satisfied: pyngrok in /usr/local/lib/python3.11/dist-packages (7.3.0)\n",
            "Requirement already satisfied: lightfm in /usr/local/lib/python3.11/dist-packages (1.17)\n",
            "Requirement already satisfied: starlette<0.48.0,>=0.40.0 in /usr/local/lib/python3.11/dist-packages (from fastapi) (0.47.2)\n",
            "Requirement already satisfied: pydantic!=1.8,!=1.8.1,!=2.0.0,!=2.0.1,!=2.1.0,<3.0.0,>=1.7.4 in /usr/local/lib/python3.11/dist-packages (from fastapi) (2.11.7)\n",
            "Requirement already satisfied: typing-extensions>=4.8.0 in /usr/local/lib/python3.11/dist-packages (from fastapi) (4.14.1)\n",
            "Requirement already satisfied: click>=7.0 in /usr/local/lib/python3.11/dist-packages (from uvicorn) (8.2.1)\n",
            "Requirement already satisfied: h11>=0.8 in /usr/local/lib/python3.11/dist-packages (from uvicorn) (0.16.0)\n",
            "Requirement already satisfied: PyYAML>=5.1 in /usr/local/lib/python3.11/dist-packages (from pyngrok) (6.0.2)\n",
            "Requirement already satisfied: numpy in /usr/local/lib/python3.11/dist-packages (from lightfm) (2.0.2)\n",
            "Requirement already satisfied: scipy>=0.17.0 in /usr/local/lib/python3.11/dist-packages (from lightfm) (1.16.0)\n",
            "Requirement already satisfied: requests in /usr/local/lib/python3.11/dist-packages (from lightfm) (2.32.3)\n",
            "Requirement already satisfied: scikit-learn in /usr/local/lib/python3.11/dist-packages (from lightfm) (1.6.1)\n",
            "Requirement already satisfied: annotated-types>=0.6.0 in /usr/local/lib/python3.11/dist-packages (from pydantic!=1.8,!=1.8.1,!=2.0.0,!=2.0.1,!=2.1.0,<3.0.0,>=1.7.4->fastapi) (0.7.0)\n",
            "Requirement already satisfied: pydantic-core==2.33.2 in /usr/local/lib/python3.11/dist-packages (from pydantic!=1.8,!=1.8.1,!=2.0.0,!=2.0.1,!=2.1.0,<3.0.0,>=1.7.4->fastapi) (2.33.2)\n",
            "Requirement already satisfied: typing-inspection>=0.4.0 in /usr/local/lib/python3.11/dist-packages (from pydantic!=1.8,!=1.8.1,!=2.0.0,!=2.0.1,!=2.1.0,<3.0.0,>=1.7.4->fastapi) (0.4.1)\n",
            "Requirement already satisfied: anyio<5,>=3.6.2 in /usr/local/lib/python3.11/dist-packages (from starlette<0.48.0,>=0.40.0->fastapi) (4.9.0)\n",
            "Requirement already satisfied: charset-normalizer<4,>=2 in /usr/local/lib/python3.11/dist-packages (from requests->lightfm) (3.4.2)\n",
            "Requirement already satisfied: idna<4,>=2.5 in /usr/local/lib/python3.11/dist-packages (from requests->lightfm) (3.10)\n",
            "Requirement already satisfied: urllib3<3,>=1.21.1 in /usr/local/lib/python3.11/dist-packages (from requests->lightfm) (2.5.0)\n",
            "Requirement already satisfied: certifi>=2017.4.17 in /usr/local/lib/python3.11/dist-packages (from requests->lightfm) (2025.7.14)\n",
            "Requirement already satisfied: joblib>=1.2.0 in /usr/local/lib/python3.11/dist-packages (from scikit-learn->lightfm) (1.5.1)\n",
            "Requirement already satisfied: threadpoolctl>=3.1.0 in /usr/local/lib/python3.11/dist-packages (from scikit-learn->lightfm) (3.6.0)\n",
            "Requirement already satisfied: sniffio>=1.1 in /usr/local/lib/python3.11/dist-packages (from anyio<5,>=3.6.2->starlette<0.48.0,>=0.40.0->fastapi) (1.3.1)\n",
            "Authtoken saved to configuration file: /root/.config/ngrok/ngrok.yml\n"
          ]
        },
        {
          "output_type": "stream",
          "name": "stderr",
          "text": [
            "INFO:     Started server process [2719]\n",
            "INFO:     Waiting for application startup.\n",
            "INFO:     Application startup complete.\n",
            "INFO:     Uvicorn running on http://0.0.0.0:8000 (Press CTRL+C to quit)\n"
          ]
        },
        {
          "output_type": "stream",
          "name": "stdout",
          "text": [
            "🔗 FastAPI 서버 주소: NgrokTunnel: \"https://48c85bcb408c.ngrok-free.app\" -> \"http://localhost:8000\"/docs\n",
            "INFO:     58.122.175.97:0 - \"GET /docs HTTP/1.1\" 200 OK\n",
            "INFO:     58.122.175.97:0 - \"GET /openapi.json HTTP/1.1\" 200 OK\n",
            "INFO:     58.122.175.97:0 - \"POST /recommend HTTP/1.1\" 200 OK\n"
          ]
        }
      ],
      "source": [
        "# 1. 설치\n",
        "!pip install fastapi uvicorn nest-asyncio pyngrok lightfm\n",
        "\n",
        "# 2. 전체 코드 실행\n",
        "from fastapi import FastAPI\n",
        "from pydantic import BaseModel\n",
        "import uvicorn\n",
        "import pickle\n",
        "import numpy as np\n",
        "import nest_asyncio\n",
        "from pyngrok import ngrok\n",
        "\n",
        "# 3. 서버 충돌 방지\n",
        "nest_asyncio.apply()\n",
        "app = FastAPI()\n",
        "\n",
        "# 4. 모델 로딩\n",
        "with open(\"/content/lightfm_model.pt\", \"rb\") as f:\n",
        "    model = pickle.load(f)\n",
        "\n",
        "with open(\"/content/user_map.pkl\", \"rb\") as f:\n",
        "    user_map = pickle.load(f)\n",
        "\n",
        "with open(\"/content/item_ids.pkl\", \"rb\") as f:\n",
        "    item_ids = pickle.load(f)\n",
        "\n",
        "# 5. 요청 형식\n",
        "class RecommendRequest(BaseModel):\n",
        "    user_id: int\n",
        "    k: int = 6\n",
        "\n",
        "# 6. 추천 API\n",
        "@app.post(\"/recommend\")\n",
        "def recommend(req: RecommendRequest):\n",
        "    user_id_raw = req.user_id\n",
        "    if user_id_raw not in user_map:\n",
        "        return {\"recommended\": []}\n",
        "\n",
        "    user_idx = user_map[user_id_raw]\n",
        "    scores = model.predict(user_ids=user_idx, item_ids=np.arange(len(item_ids)), num_threads=1)\n",
        "    top_items_idx = np.argsort(-scores)[:req.k]\n",
        "    top_product_ids = [int(item_ids[i]) for i in top_items_idx]\n",
        "    return {\"recommended\": top_product_ids}\n",
        "\n",
        "# 7. ngrok 인증 (최초 1회만)\n",
        "!ngrok config add-authtoken 30ZZki80BWaaSqMmyq70kZKBxwc_5vJv2zxsRzdx44Kp8bbat\n",
        "\n",
        "# 8. ngrok 연결\n",
        "public_url = ngrok.connect(8000)\n",
        "print(f\"🔗 FastAPI 서버 주소: {public_url}/docs\")\n",
        "\n",
        "# 9. FastAPI 서버 실행 (실시간으로 Colab에서 실행)\n",
        "uvicorn.run(app, host=\"0.0.0.0\", port=8000)"
      ]
    },
    {
      "cell_type": "code",
      "source": [],
      "metadata": {
        "id": "JOuaLw0st5YR"
      },
      "execution_count": null,
      "outputs": []
    }
  ]
}